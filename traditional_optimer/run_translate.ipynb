{
 "cells": [
  {
   "cell_type": "code",
   "execution_count": 1,
   "metadata": {
    "collapsed": true
   },
   "outputs": [
    {
     "name": "stderr",
     "output_type": "stream",
     "text": [
      "/home/wxming/PycharmProject/environ/All/lib/python3.6/site-packages/h5py/__init__.py:36: FutureWarning: Conversion of the second argument of issubdtype from `float` to `np.floating` is deprecated. In future, it will be treated as `np.float64 == np.dtype(float).type`.\n  from ._conv import register_converters as _register_converters\n"
     ]
    }
   ],
   "source": [
    "import tensorflow as tf\n",
    "import matplotlib.pyplot as plt  #导入作图包\n",
    "import os\n",
    "import numpy as np\n",
    "import pylab\n",
    "import glob\n",
    "\n",
    "os.environ[\"TF_CPP_MIN_LOG_LEVEL\"] = \"3\"\n",
    "os.chdir(\"/home/wxming/PycharmProject/Notebook/Concrete-Crack-Detection/\")  #改变改变工作目录到此目录\n",
    "from raw_to_tfrecoder import slide\n",
    "\n",
    "# modir = \"/home/wxming/PycharmProject/Notebook/Concrete-Crack-Detection/log/model/model.cpk-89000\"\n",
    "modir = \"/home/wxming/PycharmProject/Notebook/Concrete-Crack-Detection/log/new/model.cpk-11000\"\n",
    "imaga_dir = \"/home/wxming/PycharmProject/Notebook/Concrete-Crack-Detection/data\"\n"
   ]
  },
  {
   "cell_type": "code",
   "execution_count": null,
   "metadata": {
    "collapsed": false
   },
   "outputs": [],
   "source": [
    "pylab.rcParams['figure.figsize'] = (25.0, 8.0)\n",
    "image_list = glob.glob(imaga_dir + \"/*.jpg\")\n",
    "# print(image_list)\n",
    "\n",
    "with tf.Graph().as_default() as g1:\n",
    "    with tf.Session() as sess:\n",
    "        tf.train.import_meta_graph(modir + \".meta\")\n",
    "        restore = tf.train.Saver()\n",
    "        restore.restore(sess, modir)\n",
    "        input = g1.get_tensor_by_name(\"IteratorGetNext:0\")\n",
    "        output = g1.get_tensor_by_name(\"output/flatten/Reshape:0\")\n",
    "        prey = tf.argmax(output, 1)\n",
    "        # sess.run(tf.global_variables_initializer())\n",
    "\n",
    "        for im in image_list:\n",
    "            image_list = []\n",
    "            data = slide(im, 114)\n",
    "            x, iterator = data.break_image()\n",
    "            sess.run(iterator)\n",
    "            while True:\n",
    "                try:\n",
    "                    image, h, w = sess.run([x['image'], x['h'], x['w']])\n",
    "                    prey_val = sess.run(prey, feed_dict={input: image})\n",
    "                    image_list.extend(prey_val)\n",
    "                except:\n",
    "                    break\n",
    "            a = np.array(image_list).reshape([h[0], w[0]])\n",
    "            pr_image, raw_image = data.marge_image(a)\n",
    "            ax = plt.figure()\n",
    "            print(\"=========================================\", im.split(\"/\")[-1],\n",
    "                  \"=========================================\")\n",
    "            ax.add_subplot(1, 2, 1).imshow(raw_image)\n",
    "            ax.add_subplot(1, 2, 2).imshow(pr_image)\n",
    "            plt.show()\n",
    "sess.close()\n"
   ]
  },
  {
   "cell_type": "code",
   "execution_count": 6,
   "metadata": {},
   "outputs": [],
   "source": []
  },
  {
   "cell_type": "code",
   "execution_count": null,
   "metadata": {},
   "outputs": [],
   "source": []
  }
 ],
 "metadata": {
  "kernelspec": {
   "display_name": "Python 2",
   "language": "python",
   "name": "python2"
  },
  "language_info": {
   "codemirror_mode": {
    "name": "ipython",
    "version": 2
   },
   "file_extension": ".py",
   "mimetype": "text/x-python",
   "name": "python",
   "nbconvert_exporter": "python",
   "pygments_lexer": "ipython2",
   "version": "2.7.6"
  }
 },
 "nbformat": 4,
 "nbformat_minor": 0
}
